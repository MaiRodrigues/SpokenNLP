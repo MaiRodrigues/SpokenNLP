{
  "nbformat": 4,
  "nbformat_minor": 0,
  "metadata": {
    "colab": {
      "provenance": []
    },
    "kernelspec": {
      "name": "python3",
      "display_name": "Python 3"
    },
    "language_info": {
      "name": "python"
    }
  },
  "cells": [
    {
      "cell_type": "code",
      "source": [
        "import os\n",
        "import pandas as pd\n",
        "from sklearn.model_selection import train_test_split\n",
        "\n",
        "def divide_dataset(dataset_path, train_ratio=0.8, val_ratio=0.1, test_ratio=0.1, random_seed=42):\n",
        "    df = pd.read_csv(os.path.join(dataset_path, 'train.csv'))\n",
        "\n",
        "    if df.empty:\n",
        "        print(\"O arquivo train.csv está vazio ou não pôde ser lido.\")\n",
        "        return\n",
        "\n",
        "    print(\"Número total de exemplos no conjunto de dados:\", len(df))\n",
        "\n",
        "    # Dividir o conjunto de treinamento\n",
        "    train_df, temp_df = train_test_split(df, test_size=1 - train_ratio, random_state=random_seed)\n",
        "\n",
        "    # Dividir o conjunto restante em validação e teste\n",
        "    val_df, test_df = train_test_split(temp_df, test_size=test_ratio / (val_ratio + test_ratio), random_state=random_seed)\n",
        "\n",
        "    # Crie as pastas se não existirem\n",
        "    for folder in ['train', 'validation', 'test']:\n",
        "        folder_path = os.path.join(dataset_path, folder)\n",
        "        os.makedirs(folder_path, exist_ok=True)\n",
        "\n",
        "    # Salvar os conjuntos divididos\n",
        "    train_df.to_csv(os.path.join(dataset_path, 'train', 'train.csv'), index=False)\n",
        "    val_df.to_csv(os.path.join(dataset_path, 'validation', 'validation.csv'), index=False)\n",
        "    test_df.to_csv(os.path.join(dataset_path, 'test', 'test.csv'), index=False)\n",
        "\n",
        "    print(\"Número de exemplos no conjunto de treinamento:\", len(train_df))\n",
        "    print(\"Número de exemplos no conjunto de validação:\", len(val_df))\n",
        "    print(\"Número de exemplos no conjunto de teste:\", len(test_df))\n",
        "\n",
        "# Substitua '/content/drive/MyDrive/maritaca' pelo caminho real do seu conjunto de dados Maritaca\n",
        "divide_dataset(\"/content/drive/MyDrive/maritaca\")\n"
      ],
      "metadata": {
        "colab": {
          "base_uri": "https://localhost:8080/"
        },
        "id": "mlYTB48ZgQVh",
        "outputId": "562851fa-62dd-4839-e13b-5ee72bdad8a6"
      },
      "execution_count": null,
      "outputs": [
        {
          "output_type": "stream",
          "name": "stdout",
          "text": [
            "Número total de exemplos no conjunto de dados: 13730\n",
            "Número de exemplos no conjunto de treinamento: 10984\n",
            "Número de exemplos no conjunto de validação: 1373\n",
            "Número de exemplos no conjunto de teste: 1373\n"
          ]
        }
      ]
    }
    
